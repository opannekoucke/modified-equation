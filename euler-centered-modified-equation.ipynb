{
 "cells": [
  {
   "cell_type": "markdown",
   "metadata": {
    "slideshow": {
     "slide_type": "slide"
    }
   },
   "source": [
    "<h1><center> Computation of the modified equation of a numerical scheme (univariate PDE evolution equation)</center></h1>\n",
    "<center>\n",
    "    Olivier Pannekoucke <br> 2020"
   ]
  },
  {
   "cell_type": "markdown",
   "metadata": {},
   "source": [
    "# Introduction"
   ]
  },
  {
   "cell_type": "markdown",
   "metadata": {},
   "source": [
    "In this illustration we compute the modified equation assowiated with the Euler discretization and the centered discretization of the advection equation\n",
    "$$(1)\\quad \\partial_t u + c \\partial_x u =0$$\n",
    "whose numerical scheme is \n",
    "$$(2)\\quad u^{q+1}_k =  u_k^q - c \\delta t \\frac{u^q_{k+1}-u^q_{k-1}}{2\\delta x}$$\n",
    "where $u^q_k$ stands for a numerical approximation of $u(q\\delta t,k\\delta x)$."
   ]
  },
  {
   "cell_type": "markdown",
   "metadata": {},
   "source": [
    "## Application to the Euler time scheme applied on the advection"
   ]
  },
  {
   "cell_type": "markdown",
   "metadata": {},
   "source": [
    "#### Import of modules & functions"
   ]
  },
  {
   "cell_type": "code",
   "execution_count": 1,
   "metadata": {},
   "outputs": [],
   "source": [
    "from modequation import ModifiedEquation\n",
    "import sympy\n",
    "from sympy import symbols, Derivative, Function, Eq"
   ]
  },
  {
   "cell_type": "code",
   "execution_count": 2,
   "metadata": {},
   "outputs": [],
   "source": [
    "c = sympy.symbols('c')\n",
    "coordinates = sympy.symbols('t x')\n",
    "t, x = coordinates\n",
    "dt, dx = sympy.symbols('dt dx')\n",
    "\n",
    "u = Function('u')(*coordinates)"
   ]
  },
  {
   "cell_type": "code",
   "execution_count": 3,
   "metadata": {},
   "outputs": [],
   "source": [
    "u_qp=u.subs(t,t+dt)\n",
    "u_kp=u.subs(x,x+dx)\n",
    "u_km=u.subs(x,x-dx)"
   ]
  },
  {
   "cell_type": "markdown",
   "metadata": {},
   "source": [
    "#### Definition of the time schemes\n",
    "\n",
    "First we define the numerical schemes as an equation (`sympy.Eq`)\n",
    "$$(3)\\quad \\frac{u^{q+1}_k-u_k^q }{\\delta t} =  - c \\frac{u^q_{k+1}-u^q_{k-1}}{2\\delta x}$$\n"
   ]
  },
  {
   "cell_type": "code",
   "execution_count": 11,
   "metadata": {},
   "outputs": [],
   "source": [
    "euler_centered_scheme = Eq( (u_qp-u)/dt, -c * (u_kp-u_km)/(2*dx))"
   ]
  },
  {
   "cell_type": "markdown",
   "metadata": {},
   "source": [
    "#### Computation of the modified equations"
   ]
  },
  {
   "cell_type": "code",
   "execution_count": 12,
   "metadata": {},
   "outputs": [],
   "source": [
    "euler_centered = ModifiedEquation(euler_centered_scheme,u, order =3)"
   ]
  },
  {
   "cell_type": "code",
   "execution_count": 13,
   "metadata": {},
   "outputs": [
    {
     "data": {
      "text/latex": [
       "$\\displaystyle \\frac{\\partial}{\\partial t} u{\\left(t,x \\right)} = - c \\frac{\\partial}{\\partial x} u{\\left(t,x \\right)}$"
      ],
      "text/plain": [
       "Eq(Derivative(u(t, x), t), -c*Derivative(u(t, x), x))"
      ]
     },
     "execution_count": 13,
     "metadata": {},
     "output_type": "execute_result"
    }
   ],
   "source": [
    "euler_centered.consistant_equation"
   ]
  },
  {
   "cell_type": "code",
   "execution_count": 14,
   "metadata": {},
   "outputs": [
    {
     "data": {
      "text/latex": [
       "$\\displaystyle \\frac{\\partial}{\\partial t} u{\\left(t,x \\right)} = - c \\frac{\\partial}{\\partial x} u{\\left(t,x \\right)} - \\frac{c dx^{2} \\frac{\\partial^{3}}{\\partial x^{3}} u{\\left(t,x \\right)}}{6} - \\frac{c^{2} dt \\frac{\\partial^{2}}{\\partial x^{2}} u{\\left(t,x \\right)}}{2} + O\\left(dx^{3}\\right) + O\\left(dt^{3}\\right)$"
      ],
      "text/plain": [
       "Eq(Derivative(u(t, x), t), -c*Derivative(u(t, x), x) - c*dx**2*Derivative(u(t, x), (x, 3))/6 - c**2*dt*Derivative(u(t, x), (x, 2))/2 + O(dx**3) + O(dt**3))"
      ]
     },
     "execution_count": 14,
     "metadata": {},
     "output_type": "execute_result"
    }
   ],
   "source": [
    "euler_centered.modified_equation"
   ]
  }
 ],
 "metadata": {
  "celltoolbar": "Slideshow",
  "kernelspec": {
   "display_name": "Python 3",
   "language": "python",
   "name": "python3"
  },
  "language_info": {
   "codemirror_mode": {
    "name": "ipython",
    "version": 3
   },
   "file_extension": ".py",
   "mimetype": "text/x-python",
   "name": "python",
   "nbconvert_exporter": "python",
   "pygments_lexer": "ipython3",
   "version": "3.7.7"
  },
  "toc": {
   "nav_menu": {
    "height": "244px",
    "width": "212px"
   },
   "number_sections": true,
   "sideBar": true,
   "skip_h1_title": true,
   "toc_cell": false,
   "toc_position": {},
   "toc_section_display": "block",
   "toc_window_display": false
  }
 },
 "nbformat": 4,
 "nbformat_minor": 4
}
